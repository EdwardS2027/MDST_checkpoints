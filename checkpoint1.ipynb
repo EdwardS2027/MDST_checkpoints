{
 "cells": [
  {
   "cell_type": "markdown",
   "metadata": {},
   "source": [
    "# Checkpoint 1"
   ]
  },
  {
   "cell_type": "markdown",
   "metadata": {},
   "source": [
    "Reminder: \n",
    "\n",
    "- You are being evaluated for compeletion and effort in this checkpoint. \n",
    "- Avoid manual labor / hard coding as much as possible, everything we've taught you so far are meant to simplify and automate your process."
   ]
  },
  {
   "cell_type": "markdown",
   "metadata": {},
   "source": [
    "We will be working with the same `states_edu.csv` that you should already be familiar with from the tutorial.\n",
    "\n",
    "We investigated Grade 8 reading score in the tutorial. For this checkpoint, you are asked to investigate another test. Here's an overview:\n",
    "\n",
    "* Choose a specific response variable to focus on\n",
    ">Grade 4 Math, Grade 4 Reading, Grade 8 Math\n",
    "* Pick or create features to use\n",
    ">Will all the features be useful in predicting test score? Are some more important than others? Should you standardize, bin, or scale the data?\n",
    "* Explore the data as it relates to that test\n",
    ">Create at least 2 visualizations (graphs), each with a caption describing the graph and what it tells us about the data\n",
    "* Create training and testing data\n",
    ">Do you want to train on all the data? Only data from the last 10 years? Only Michigan data?\n",
    "* Train a ML model to predict outcome \n",
    ">Define what you want to predict, and pick a model in sklearn to use (see sklearn <a href=\"https://scikit-learn.org/stable/modules/linear_model.html\">regressors</a>.\n",
    "* Summarize your findings\n",
    ">Write a 1 paragraph summary of what you did and make a recommendation about if and how student performance can be predicted\n",
    "\n",
    "Include comments throughout your code! Every cleanup and preprocessing task should be documented.\n",
    "\n",
    "Of course, if you're finding this assignment interesting (and we really hope you do!), you are welcome to do more than the requirements! For example, you may want to see if expenditure affects 4th graders more than 8th graders. Maybe you want to look into the extended version of this dataset and see how factors like sex and race are involved. You can include all your work in this notebook when you turn it in -- just always make sure you explain what you did and interpret your results. Good luck!"
   ]
  },
  {
   "cell_type": "markdown",
   "metadata": {},
   "source": [
    "<h2> Data Cleanup </h2>\n",
    "\n",
    "Import `numpy`, `pandas`, and `matplotlib`.\n",
    "\n",
    "(Feel free to import other libraries!)"
   ]
  },
  {
   "cell_type": "code",
   "execution_count": 256,
   "metadata": {},
   "outputs": [],
   "source": [
    "import pandas as pd\n",
    "import numpy as np\n",
    "import matplotlib.pyplot as plt\n",
    "import seaborn as sns"
   ]
  },
  {
   "cell_type": "markdown",
   "metadata": {},
   "source": [
    "Load in the \"states_edu.csv\" dataset and take a look at the head of the data"
   ]
  },
  {
   "cell_type": "code",
   "execution_count": 257,
   "metadata": {},
   "outputs": [
    {
     "data": {
      "text/html": [
       "<div>\n",
       "<style scoped>\n",
       "    .dataframe tbody tr th:only-of-type {\n",
       "        vertical-align: middle;\n",
       "    }\n",
       "\n",
       "    .dataframe tbody tr th {\n",
       "        vertical-align: top;\n",
       "    }\n",
       "\n",
       "    .dataframe thead th {\n",
       "        text-align: right;\n",
       "    }\n",
       "</style>\n",
       "<table border=\"1\" class=\"dataframe\">\n",
       "  <thead>\n",
       "    <tr style=\"text-align: right;\">\n",
       "      <th></th>\n",
       "      <th>PRIMARY_KEY</th>\n",
       "      <th>STATE</th>\n",
       "      <th>YEAR</th>\n",
       "      <th>ENROLL</th>\n",
       "      <th>TOTAL_REVENUE</th>\n",
       "      <th>FEDERAL_REVENUE</th>\n",
       "      <th>STATE_REVENUE</th>\n",
       "      <th>LOCAL_REVENUE</th>\n",
       "      <th>TOTAL_EXPENDITURE</th>\n",
       "      <th>INSTRUCTION_EXPENDITURE</th>\n",
       "      <th>...</th>\n",
       "      <th>GRADES_4_G</th>\n",
       "      <th>GRADES_8_G</th>\n",
       "      <th>GRADES_12_G</th>\n",
       "      <th>GRADES_1_8_G</th>\n",
       "      <th>GRADES_9_12_G</th>\n",
       "      <th>GRADES_ALL_G</th>\n",
       "      <th>AVG_MATH_4_SCORE</th>\n",
       "      <th>AVG_MATH_8_SCORE</th>\n",
       "      <th>AVG_READING_4_SCORE</th>\n",
       "      <th>AVG_READING_8_SCORE</th>\n",
       "    </tr>\n",
       "  </thead>\n",
       "  <tbody>\n",
       "    <tr>\n",
       "      <th>0</th>\n",
       "      <td>1992_ALABAMA</td>\n",
       "      <td>ALABAMA</td>\n",
       "      <td>1992</td>\n",
       "      <td>NaN</td>\n",
       "      <td>2678885.0</td>\n",
       "      <td>304177.0</td>\n",
       "      <td>1659028.0</td>\n",
       "      <td>715680.0</td>\n",
       "      <td>2653798.0</td>\n",
       "      <td>1481703.0</td>\n",
       "      <td>...</td>\n",
       "      <td>57948.0</td>\n",
       "      <td>58025.0</td>\n",
       "      <td>41167.0</td>\n",
       "      <td>NaN</td>\n",
       "      <td>NaN</td>\n",
       "      <td>731634.0</td>\n",
       "      <td>208.0</td>\n",
       "      <td>252.0</td>\n",
       "      <td>207.0</td>\n",
       "      <td>NaN</td>\n",
       "    </tr>\n",
       "    <tr>\n",
       "      <th>1</th>\n",
       "      <td>1992_ALASKA</td>\n",
       "      <td>ALASKA</td>\n",
       "      <td>1992</td>\n",
       "      <td>NaN</td>\n",
       "      <td>1049591.0</td>\n",
       "      <td>106780.0</td>\n",
       "      <td>720711.0</td>\n",
       "      <td>222100.0</td>\n",
       "      <td>972488.0</td>\n",
       "      <td>498362.0</td>\n",
       "      <td>...</td>\n",
       "      <td>9748.0</td>\n",
       "      <td>8789.0</td>\n",
       "      <td>6714.0</td>\n",
       "      <td>NaN</td>\n",
       "      <td>NaN</td>\n",
       "      <td>122487.0</td>\n",
       "      <td>NaN</td>\n",
       "      <td>NaN</td>\n",
       "      <td>NaN</td>\n",
       "      <td>NaN</td>\n",
       "    </tr>\n",
       "    <tr>\n",
       "      <th>2</th>\n",
       "      <td>1992_ARIZONA</td>\n",
       "      <td>ARIZONA</td>\n",
       "      <td>1992</td>\n",
       "      <td>NaN</td>\n",
       "      <td>3258079.0</td>\n",
       "      <td>297888.0</td>\n",
       "      <td>1369815.0</td>\n",
       "      <td>1590376.0</td>\n",
       "      <td>3401580.0</td>\n",
       "      <td>1435908.0</td>\n",
       "      <td>...</td>\n",
       "      <td>55433.0</td>\n",
       "      <td>49081.0</td>\n",
       "      <td>37410.0</td>\n",
       "      <td>NaN</td>\n",
       "      <td>NaN</td>\n",
       "      <td>673477.0</td>\n",
       "      <td>215.0</td>\n",
       "      <td>265.0</td>\n",
       "      <td>209.0</td>\n",
       "      <td>NaN</td>\n",
       "    </tr>\n",
       "    <tr>\n",
       "      <th>3</th>\n",
       "      <td>1992_ARKANSAS</td>\n",
       "      <td>ARKANSAS</td>\n",
       "      <td>1992</td>\n",
       "      <td>NaN</td>\n",
       "      <td>1711959.0</td>\n",
       "      <td>178571.0</td>\n",
       "      <td>958785.0</td>\n",
       "      <td>574603.0</td>\n",
       "      <td>1743022.0</td>\n",
       "      <td>964323.0</td>\n",
       "      <td>...</td>\n",
       "      <td>34632.0</td>\n",
       "      <td>36011.0</td>\n",
       "      <td>27651.0</td>\n",
       "      <td>NaN</td>\n",
       "      <td>NaN</td>\n",
       "      <td>441490.0</td>\n",
       "      <td>210.0</td>\n",
       "      <td>256.0</td>\n",
       "      <td>211.0</td>\n",
       "      <td>NaN</td>\n",
       "    </tr>\n",
       "    <tr>\n",
       "      <th>4</th>\n",
       "      <td>1992_CALIFORNIA</td>\n",
       "      <td>CALIFORNIA</td>\n",
       "      <td>1992</td>\n",
       "      <td>NaN</td>\n",
       "      <td>26260025.0</td>\n",
       "      <td>2072470.0</td>\n",
       "      <td>16546514.0</td>\n",
       "      <td>7641041.0</td>\n",
       "      <td>27138832.0</td>\n",
       "      <td>14358922.0</td>\n",
       "      <td>...</td>\n",
       "      <td>418418.0</td>\n",
       "      <td>363296.0</td>\n",
       "      <td>270675.0</td>\n",
       "      <td>NaN</td>\n",
       "      <td>NaN</td>\n",
       "      <td>5254844.0</td>\n",
       "      <td>208.0</td>\n",
       "      <td>261.0</td>\n",
       "      <td>202.0</td>\n",
       "      <td>NaN</td>\n",
       "    </tr>\n",
       "  </tbody>\n",
       "</table>\n",
       "<p>5 rows × 25 columns</p>\n",
       "</div>"
      ],
      "text/plain": [
       "       PRIMARY_KEY       STATE  YEAR  ENROLL  TOTAL_REVENUE  FEDERAL_REVENUE  \\\n",
       "0     1992_ALABAMA     ALABAMA  1992     NaN      2678885.0         304177.0   \n",
       "1      1992_ALASKA      ALASKA  1992     NaN      1049591.0         106780.0   \n",
       "2     1992_ARIZONA     ARIZONA  1992     NaN      3258079.0         297888.0   \n",
       "3    1992_ARKANSAS    ARKANSAS  1992     NaN      1711959.0         178571.0   \n",
       "4  1992_CALIFORNIA  CALIFORNIA  1992     NaN     26260025.0        2072470.0   \n",
       "\n",
       "   STATE_REVENUE  LOCAL_REVENUE  TOTAL_EXPENDITURE  INSTRUCTION_EXPENDITURE  \\\n",
       "0      1659028.0       715680.0          2653798.0                1481703.0   \n",
       "1       720711.0       222100.0           972488.0                 498362.0   \n",
       "2      1369815.0      1590376.0          3401580.0                1435908.0   \n",
       "3       958785.0       574603.0          1743022.0                 964323.0   \n",
       "4     16546514.0      7641041.0         27138832.0               14358922.0   \n",
       "\n",
       "   ...  GRADES_4_G  GRADES_8_G  GRADES_12_G  GRADES_1_8_G  GRADES_9_12_G  \\\n",
       "0  ...     57948.0     58025.0      41167.0           NaN            NaN   \n",
       "1  ...      9748.0      8789.0       6714.0           NaN            NaN   \n",
       "2  ...     55433.0     49081.0      37410.0           NaN            NaN   \n",
       "3  ...     34632.0     36011.0      27651.0           NaN            NaN   \n",
       "4  ...    418418.0    363296.0     270675.0           NaN            NaN   \n",
       "\n",
       "   GRADES_ALL_G  AVG_MATH_4_SCORE  AVG_MATH_8_SCORE  AVG_READING_4_SCORE  \\\n",
       "0      731634.0             208.0             252.0                207.0   \n",
       "1      122487.0               NaN               NaN                  NaN   \n",
       "2      673477.0             215.0             265.0                209.0   \n",
       "3      441490.0             210.0             256.0                211.0   \n",
       "4     5254844.0             208.0             261.0                202.0   \n",
       "\n",
       "   AVG_READING_8_SCORE  \n",
       "0                  NaN  \n",
       "1                  NaN  \n",
       "2                  NaN  \n",
       "3                  NaN  \n",
       "4                  NaN  \n",
       "\n",
       "[5 rows x 25 columns]"
      ]
     },
     "execution_count": 257,
     "metadata": {},
     "output_type": "execute_result"
    }
   ],
   "source": [
    "df = pd.read_csv(\"C:/Users/s-edw/Downloads/states_edu.csv\")\n",
    "\n",
    "df.head()"
   ]
  },
  {
   "cell_type": "markdown",
   "metadata": {},
   "source": [
    "You should always familiarize yourself with what each column in the dataframe represents. Read about the states_edu dataset here: https://www.kaggle.com/noriuk/us-education-datasets-unification-project"
   ]
  },
  {
   "cell_type": "markdown",
   "metadata": {},
   "source": [
    "Use this space to rename columns, deal with missing data, etc. _(optional)_"
   ]
  },
  {
   "cell_type": "code",
   "execution_count": 258,
   "metadata": {},
   "outputs": [],
   "source": [
    "# We will drop rows where Total_REVENUE or Total_Expenditure is NA, because we want to set profit as our outcome with minimal bias\n",
    "df.dropna(subset=['TOTAL_REVENUE'], inplace=True)\n",
    "df.dropna(subset=['TOTAL_EXPENDITURE'], inplace=True)\n",
    "\n",
    "# We drop these columns, because they are either part of TOTAL_REVENUE OR TOTAL_EXPENDITURE\n",
    "df.drop(columns = ['FEDERAL_REVENUE','STATE_REVENUE', 'LOCAL_REVENUE','INSTRUCTION_EXPENDITURE','SUPPORT_SERVICES_EXPENDITURE','OTHER_EXPENDITURE','CAPITAL_OUTLAY_EXPENDITURE',\"ENROLL\" ],axis =1, inplace = True)\n",
    "\n",
    "#We create a new column called Total_PROFIT, which is our outcome\n",
    "df[\"Total_PROFIT\"] = df['TOTAL_REVENUE'] - df['TOTAL_EXPENDITURE']\n",
    "\n",
    "for index, row in df.iterrows():\n",
    "    \n",
    "    if pd.isna(row[\"GRADES_PK_G\"]):\n",
    "        \n",
    "        df.loc[index,\"GRADES_PK_G\"] = row[\"GRADES_ALL_G\"]/14\n",
    "        \n",
    "    if pd.isna(row[\"GRADES_KG_G\"]):\n",
    "        df.loc[index,\"GRADES_KG_G\"]=row[\"GRADES_ALL_G\"]/14 \n",
    "    \n",
    "    if pd.isna(row[\"GRADES_4_G\"]):\n",
    "        if row[\"GRADES_1_8_G\"].notna():\n",
    "            df.loc[index,\"GRADES_4_G\"] = row[\"GRADES_1_8_G\"]/8\n",
    "        else:\n",
    "            df.loc[index,\"GRADES_4_G\"] = row[\"GRADES_ALL_G\"]/14\n",
    "    if pd.isna(row[\"GRADES_8_G\"]):\n",
    "        if row[\"GRADES_1_8_G\"].notna():\n",
    "            df.loc[index,\"GRADES_8_G\"] = row[\"GRADES_1_8_G\"]/8\n",
    "            \n",
    "        else:\n",
    "            df.loc[index,\"GRADES_8_G\"] = row[\"GRADES_ALL_G\"]/14\n",
    "    \n",
    "    if pd.isna(row[\"GRADES_12_G\"]):\n",
    "        if row[\"GRADES_9_12_G\"].notna():\n",
    "            df.loc[index,\"GRADES_12_G\"] = row[\"GRADES_9_12_G\"]/4\n",
    "            \n",
    "        else:\n",
    "            df.loc[index,\"GRADES_12_G\"] = row[\"GRADES_ALL_G\"]/14\n",
    "    \n",
    "    if pd.isna(row[\"AVG_MATH_4_SCORE\"]):\n",
    "        \n",
    "        df.loc[index,\"AVG_MATH_4_SCORE\"] = df[df[\"STATE\"]==row[\"STATE\"]][\"AVG_MATH_4_SCORE\"].mean()\n",
    "        \n",
    "    \n",
    "    if pd.isna(row[\"AVG_MATH_8_SCORE\"]):\n",
    "        df.loc[index,\"AVG_MATH_8_SCORE\"] = df[df[\"STATE\"]==row[\"STATE\"]][\"AVG_MATH_8_SCORE\"].mean()\n",
    "    \n",
    "    if pd.isna(row[\"AVG_READING_4_SCORE\"]):\n",
    "    \n",
    "        df.loc[index,\"AVG_READING_4_SCORE\"] = df[df[\"STATE\"]==row[\"STATE\"]][\"AVG_READING_4_SCORE\"].mean()\n",
    "        \n",
    "\n",
    "            \n",
    "    if pd.isna(row[\"AVG_READING_8_SCORE\"]):\n",
    "        df.loc[index,\"AVG_READING_8_SCORE\"] = df[df[\"STATE\"]==row[\"STATE\"]][\"AVG_READING_8_SCORE\"].mean()\n",
    "        \n",
    "df['GRADES_1_8_G'] = df['GRADES_1_8_G'].replace(np.nan, (row[\"GRADES_4_G\"]+row[\"GRADES_8_G\"])*4)\n",
    "df['GRADES_9_12_G'] = df['GRADES_9_12_G'].replace(np.nan, row[\"GRADES_12_G\"]*4)\n",
    "    \n",
    "        \n",
    "\n",
    "\n"
   ]
  },
  {
   "cell_type": "markdown",
   "metadata": {},
   "source": [
    "<h2>Exploratory Data Analysis (EDA) </h2>"
   ]
  },
  {
   "cell_type": "markdown",
   "metadata": {},
   "source": [
    "Chosen Outcome Variable for Test: Profit"
   ]
  },
  {
   "cell_type": "markdown",
   "metadata": {},
   "source": [
    "How many years of data are logged in our dataset? "
   ]
  },
  {
   "cell_type": "code",
   "execution_count": 259,
   "metadata": {},
   "outputs": [
    {
     "name": "stdout",
     "output_type": "stream",
     "text": [
      "24\n"
     ]
    }
   ],
   "source": [
    "min_years = 100000000000000\n",
    "max_years=0\n",
    "\n",
    "for index, row in df.iterrows():\n",
    "    year = row[\"PRIMARY_KEY\"][0:4]\n",
    "    if int(year) < min_years:\n",
    "        min_years = int(year)\n",
    "        \n",
    "    if int(year) > max_years:\n",
    "        max_years = int(year)\n",
    "    \n",
    "\n",
    "year = max_years - min_years\n",
    "print(year)"
   ]
  },
  {
   "cell_type": "markdown",
   "metadata": {},
   "source": [
    "Let's compare Michigan to Ohio. Which state has the higher average outcome score across all years?"
   ]
  },
  {
   "cell_type": "code",
   "execution_count": 260,
   "metadata": {},
   "outputs": [
    {
     "name": "stdout",
     "output_type": "stream",
     "text": [
      "Michigan's avg enrollment numbers\n",
      "-149154.64\n",
      "\n",
      "Ohio's avg enrollment numbers\n",
      "365198.12\n"
     ]
    }
   ],
   "source": [
    "michigan_outcome = df[df[\"STATE\"]==\"MICHIGAN\"][\"Total_PROFIT\"].sum() / len(df[df[\"STATE\"]==\"MICHIGAN\"])\n",
    "\n",
    "ohio_outcome = df[df[\"STATE\"]==\"OHIO\"][\"Total_PROFIT\"].sum() / len(df[df[\"STATE\"]==\"OHIO\"])\n",
    "\n",
    "print(\"Michigan's avg enrollment numbers\")\n",
    "print(michigan_outcome)\n",
    "print()\n",
    "print(\"Ohio's avg enrollment numbers\")\n",
    "print(ohio_outcome)"
   ]
  },
  {
   "cell_type": "markdown",
   "metadata": {},
   "source": [
    "Find the average for your outcome score across all states in 2019"
   ]
  },
  {
   "cell_type": "code",
   "execution_count": 261,
   "metadata": {},
   "outputs": [
    {
     "name": "stdout",
     "output_type": "stream",
     "text": [
      "ALABAMA\n",
      "-144423.96\n",
      "\n",
      "ALASKA\n",
      "-97626.76\n",
      "\n",
      "ARIZONA\n",
      "27733.0\n",
      "\n",
      "ARKANSAS\n",
      "-96322.0\n",
      "\n",
      "CALIFORNIA\n",
      "-448652.04\n",
      "\n",
      "COLORADO\n",
      "-204656.44\n",
      "\n",
      "CONNECTICUT\n",
      "284520.84\n",
      "\n",
      "DELAWARE\n",
      "-17906.56\n",
      "\n",
      "DISTRICT_OF_COLUMBIA\n",
      "3622.44\n",
      "\n",
      "FLORIDA\n",
      "-422473.88\n",
      "\n",
      "GEORGIA\n",
      "104228.12\n",
      "\n",
      "HAWAII\n",
      "229850.56\n",
      "\n",
      "IDAHO\n",
      "24166.36\n",
      "\n",
      "ILLINOIS\n",
      "-171072.36\n",
      "\n",
      "INDIANA\n",
      "418123.76\n",
      "\n",
      "IOWA\n",
      "-58319.8\n",
      "\n",
      "KANSAS\n",
      "43499.52\n",
      "\n",
      "KENTUCKY\n",
      "-68428.16\n",
      "\n",
      "LOUISIANA\n",
      "67833.6\n",
      "\n",
      "MAINE\n",
      "18353.64\n",
      "\n",
      "MARYLAND\n",
      "133253.76\n",
      "\n",
      "MASSACHUSETTS\n",
      "92846.0\n",
      "\n",
      "MICHIGAN\n",
      "-149154.64\n",
      "\n",
      "MINNESOTA\n",
      "-336661.84\n",
      "\n",
      "MISSISSIPPI\n",
      "-9637.28\n",
      "\n",
      "MISSOURI\n",
      "-85076.52\n",
      "\n",
      "MONTANA\n",
      "3432.52\n",
      "\n",
      "NEBRASKA\n",
      "28591.6\n",
      "\n",
      "NEVADA\n",
      "-131121.72\n",
      "\n",
      "NEW_HAMPSHIRE\n",
      "-5787.24\n",
      "\n",
      "NEW_JERSEY\n",
      "78143.36\n",
      "\n",
      "NEW_MEXICO\n",
      "-20609.0\n",
      "\n",
      "NEW_YORK\n",
      "-1815537.92\n",
      "\n",
      "NORTH_CAROLINA\n",
      "-20305.52\n",
      "\n",
      "NORTH_DAKOTA\n",
      "-18113.56\n",
      "\n",
      "OHIO\n",
      "365198.12\n",
      "\n",
      "OKLAHOMA\n",
      "17800.88\n",
      "\n",
      "OREGON\n",
      "-151106.08\n",
      "\n",
      "PENNSYLVANIA\n",
      "-416139.04\n",
      "\n",
      "RHODE_ISLAND\n",
      "40659.4\n",
      "\n",
      "SOUTH_CAROLINA\n",
      "-178371.52\n",
      "\n",
      "SOUTH_DAKOTA\n",
      "-10769.88\n",
      "\n",
      "TENNESSEE\n",
      "-280123.28\n",
      "\n",
      "TEXAS\n",
      "-1467634.28\n",
      "\n",
      "UTAH\n",
      "-39493.16\n",
      "\n",
      "VERMONT\n",
      "10009.04\n",
      "\n",
      "VIRGINIA\n",
      "-219078.16\n",
      "\n",
      "WASHINGTON\n",
      "-185945.72\n",
      "\n",
      "WEST_VIRGINIA\n",
      "-6013.28\n",
      "\n",
      "WISCONSIN\n",
      "-50641.92\n",
      "\n",
      "WYOMING\n",
      "21280.2\n",
      "\n"
     ]
    }
   ],
   "source": [
    "for state in df[\"STATE\"].unique():\n",
    "    print(state)\n",
    "    print(df[df[\"STATE\"]== state][\"Total_PROFIT\"].sum() / len(df[df[\"STATE\"]==state]))\n",
    "    print()"
   ]
  },
  {
   "cell_type": "markdown",
   "metadata": {},
   "source": [
    "Find the maximum outcome score for every state. \n",
    "\n",
    "Refer to the `Grouping and Aggregating` section in Tutorial 0 if you are stuck."
   ]
  },
  {
   "cell_type": "code",
   "execution_count": 262,
   "metadata": {},
   "outputs": [
    {
     "name": "stdout",
     "output_type": "stream",
     "text": [
      "ALABAMA\n",
      "25087.0\n",
      "\n",
      "ALASKA\n",
      "77103.0\n",
      "\n",
      "ARIZONA\n",
      "563743.0\n",
      "\n",
      "ARKANSAS\n",
      "161455.0\n",
      "\n",
      "CALIFORNIA\n",
      "3897129.0\n",
      "\n",
      "COLORADO\n",
      "244747.0\n",
      "\n",
      "CONNECTICUT\n",
      "593242.0\n",
      "\n",
      "DELAWARE\n",
      "58075.0\n",
      "\n",
      "DISTRICT_OF_COLUMBIA\n",
      "141464.0\n",
      "\n",
      "FLORIDA\n",
      "936214.0\n",
      "\n",
      "GEORGIA\n",
      "842562.0\n",
      "\n",
      "HAWAII\n",
      "785989.0\n",
      "\n",
      "IDAHO\n",
      "165510.0\n",
      "\n",
      "ILLINOIS\n",
      "981726.0\n",
      "\n",
      "INDIANA\n",
      "2520706.0\n",
      "\n",
      "IOWA\n",
      "41176.0\n",
      "\n",
      "KANSAS\n",
      "395673.0\n",
      "\n",
      "KENTUCKY\n",
      "185545.0\n",
      "\n",
      "LOUISIANA\n",
      "748486.0\n",
      "\n",
      "MAINE\n",
      "143409.0\n",
      "\n",
      "MARYLAND\n",
      "608819.0\n",
      "\n",
      "MASSACHUSETTS\n",
      "656621.0\n",
      "\n",
      "MICHIGAN\n",
      "1414616.0\n",
      "\n",
      "MINNESOTA\n",
      "299888.0\n",
      "\n",
      "MISSISSIPPI\n",
      "213545.0\n",
      "\n",
      "MISSOURI\n",
      "191821.0\n",
      "\n",
      "MONTANA\n",
      "53167.0\n",
      "\n",
      "NEBRASKA\n",
      "239811.0\n",
      "\n",
      "NEVADA\n",
      "162334.0\n",
      "\n",
      "NEW_HAMPSHIRE\n",
      "97783.0\n",
      "\n",
      "NEW_JERSEY\n",
      "1141876.0\n",
      "\n",
      "NEW_MEXICO\n",
      "119109.0\n",
      "\n",
      "NEW_YORK\n",
      "0\n",
      "\n",
      "NORTH_CAROLINA\n",
      "2458771.0\n",
      "\n",
      "NORTH_DAKOTA\n",
      "40788.0\n",
      "\n",
      "OHIO\n",
      "1816932.0\n",
      "\n",
      "OKLAHOMA\n",
      "230096.0\n",
      "\n",
      "OREGON\n",
      "167728.0\n",
      "\n",
      "PENNSYLVANIA\n",
      "447439.0\n",
      "\n",
      "RHODE_ISLAND\n",
      "112881.0\n",
      "\n",
      "SOUTH_CAROLINA\n",
      "102973.0\n",
      "\n",
      "SOUTH_DAKOTA\n",
      "40002.0\n",
      "\n",
      "TENNESSEE\n",
      "0\n",
      "\n",
      "TEXAS\n",
      "1692334.0\n",
      "\n",
      "UTAH\n",
      "167122.0\n",
      "\n",
      "VERMONT\n",
      "43518.0\n",
      "\n",
      "VIRGINIA\n",
      "17364.0\n",
      "\n",
      "WASHINGTON\n",
      "233897.0\n",
      "\n",
      "WEST_VIRGINIA\n",
      "433970.0\n",
      "\n",
      "WISCONSIN\n",
      "415590.0\n",
      "\n",
      "WYOMING\n",
      "98557.0\n",
      "\n"
     ]
    }
   ],
   "source": [
    "for state in df[\"STATE\"].unique():\n",
    "    max_profit = 0\n",
    "    print(state)\n",
    "    for index, row in df[df[\"STATE\"]== state].iterrows():\n",
    "        if row[\"Total_PROFIT\"] > max_profit:\n",
    "            max_profit = row[\"Total_PROFIT\"]\n",
    "            \n",
    "    print(max_profit)\n",
    "    print()"
   ]
  },
  {
   "cell_type": "markdown",
   "metadata": {},
   "source": [
    "<h2> Feature Engineering </h2>\n",
    "\n",
    "After exploring the data, you can choose to modify features that you would use to predict the performance of the students on your chosen response variable. \n",
    "\n",
    "You can also create your own features. For example, perhaps you figured that maybe a state's expenditure per student may affect their overall academic performance so you create a expenditure_per_student feature.\n",
    "\n",
    "Use this space to modify or create features."
   ]
  },
  {
   "cell_type": "code",
   "execution_count": 263,
   "metadata": {},
   "outputs": [],
   "source": [
    "#df[\"Total_Profit\"] = df['Total_REVENUE']- df['TOTAL_EXPENDITURE']\n",
    "#df.drop(columns = ['FEDERAL_REVENUE','STATE_REVENUE', 'LOCAL_REVENUE','INSTRUCTION_EXPENDITURE','SUPPORT_SERVICES_EXPENDITURE','OTHER_EXPENDITURE','CAPITAL_OUTLAY_EXPENDITURE' ],axis =1, inplace = True)\n",
    "\n",
    "\n",
    "\n",
    "## I modified them already in data cleanup\n",
    "\n",
    "\n",
    "#Hot-encoding state\n",
    "one_hot = pd.get_dummies(df['STATE'])\n",
    "df = df.drop('STATE',axis = 1)\n",
    "# Join the encoded df\n",
    "df = df.join(one_hot)\n"
   ]
  },
  {
   "cell_type": "markdown",
   "metadata": {},
   "source": [
    "Feature engineering justification: **<I added in the total_profit, because it was my outcome, and I can find it from using TOTAL_REVENUE and TOTAL_EXPENDITURE. Additionally, I dropped several columns, because revenue and expenditure were part of the total_profit column.\n",
    "\n",
    "\n",
    "Lastly, we hot encoded STATE, because we want numerical predictors, so we can use the linear regression to predict total_profit\\>**"
   ]
  },
  {
   "cell_type": "markdown",
   "metadata": {},
   "source": [
    "<h2>Visualization</h2>\n",
    "\n",
    "Investigate the relationship between your chosen response variable and at least two predictors using visualizations. Write down your observations.\n",
    "\n",
    "**Correlation Matrix**"
   ]
  },
  {
   "cell_type": "code",
   "execution_count": 264,
   "metadata": {},
   "outputs": [
    {
     "data": {
      "image/png": "[encoded data removed]",
      "text/plain": [
       "<Figure size 432x288 with 2 Axes>"
      ]
     },
     "metadata": {
      "needs_background": "light"
     },
     "output_type": "display_data"
    }
   ],
   "source": [
    "matrix = df[[\"Total_PROFIT\",\"YEAR\",\"GRADES_KG_G\",\"GRADES_PK_G\", \"GRADES_4_G\",\"GRADES_8_G\",\"GRADES_12_G\",\"AVG_MATH_8_SCORE\",\"AVG_READING_8_SCORE\",\"AVG_MATH_4_SCORE\",\"AVG_READING_4_SCORE\"]].corr().round(2)\n",
    "sns.heatmap(matrix, annot=True)\n",
    "plt.show()"
   ]
  },
  {
   "cell_type": "markdown",
   "metadata": {},
   "source": [
    "**<By using the correlation matrix, we can see that the year and test scores have little to no association with total_profit. We will decide to focus on states and enrollment as predictors.>**"
   ]
  },
  {
   "cell_type": "markdown",
   "metadata": {},
   "source": [
    "**Visualization 2**"
   ]
  },
  {
   "cell_type": "code",
   "execution_count": 265,
   "metadata": {},
   "outputs": [
    {
     "data": {
      "text/plain": [
       "<AxesSubplot:title={'center':'Pre_k enrollment vs. Total_Profit'}, xlabel='GRADES_PK_G', ylabel='Total_PROFIT'>"
      ]
     },
     "execution_count": 265,
     "metadata": {},
     "output_type": "execute_result"
    },
    {
     "data": {
      "image/png": "[encoded data removed]",
      "text/plain": [
       "<Figure size 432x288 with 1 Axes>"
      ]
     },
     "metadata": {
      "needs_background": "light"
     },
     "output_type": "display_data"
    }
   ],
   "source": [
    "df.plot.scatter(x = 'GRADES_PK_G', y = 'Total_PROFIT', s = 10,title = \"Pre_k enrollment vs. Total_Profit\")"
   ]
  },
  {
   "cell_type": "markdown",
   "metadata": {},
   "source": [
    "**<We can see that for lower numbers of pre-k enrollment, there seems to be no association, but as the number of pre-k enrollment increases, the total profit will seemgly decrease too>**"
   ]
  },
  {
   "cell_type": "markdown",
   "metadata": {},
   "source": [
    "<h2> Data Creation </h2>\n",
    "\n",
    "_Use this space to create train/test data_"
   ]
  },
  {
   "cell_type": "code",
   "execution_count": 266,
   "metadata": {},
   "outputs": [],
   "source": [
    "from sklearn.model_selection import train_test_split"
   ]
  },
  {
   "cell_type": "code",
   "execution_count": 267,
   "metadata": {},
   "outputs": [],
   "source": [
    "X = df[df.drop(columns=[\"PRIMARY_KEY\",\"Total_PROFIT\",\"TOTAL_REVENUE\",\"TOTAL_EXPENDITURE\",\"AVG_MATH_8_SCORE\",\"AVG_READING_8_SCORE\",\"AVG_MATH_4_SCORE\",\"AVG_READING_4_SCORE\",\"YEAR\"],axis = 1).columns] \n",
    "y = df[\"Total_PROFIT\"]"
   ]
  },
  {
   "cell_type": "code",
   "execution_count": 268,
   "metadata": {},
   "outputs": [],
   "source": [
    "X_train, X_test, y_train, y_test = train_test_split(X, y, test_size=0.05, random_state=42)"
   ]
  },
  {
   "cell_type": "markdown",
   "metadata": {},
   "source": [
    "<h2> Prediction </h2>"
   ]
  },
  {
   "cell_type": "markdown",
   "metadata": {},
   "source": [
    "ML Models [Resource](https://medium.com/@vijaya.beeravalli/comparison-of-machine-learning-classification-models-for-credit-card-default-data-c3cf805c9a5a)"
   ]
  },
  {
   "cell_type": "code",
   "execution_count": 269,
   "metadata": {},
   "outputs": [],
   "source": [
    "# import your sklearn class here\n",
    "from sklearn.linear_model import LinearRegression"
   ]
  },
  {
   "cell_type": "code",
   "execution_count": 270,
   "metadata": {},
   "outputs": [],
   "source": [
    "# create your model here\n",
    "model =  LinearRegression() "
   ]
  },
  {
   "cell_type": "code",
   "execution_count": 271,
   "metadata": {},
   "outputs": [
    {
     "data": {
      "text/plain": [
       "LinearRegression()"
      ]
     },
     "execution_count": 271,
     "metadata": {},
     "output_type": "execute_result"
    }
   ],
   "source": [
    "model.fit(X_train, y_train)"
   ]
  },
  {
   "cell_type": "code",
   "execution_count": 272,
   "metadata": {},
   "outputs": [],
   "source": [
    "y_pred = model.predict(X_test)"
   ]
  },
  {
   "cell_type": "markdown",
   "metadata": {},
   "source": [
    "## Evaluation"
   ]
  },
  {
   "cell_type": "markdown",
   "metadata": {},
   "source": [
    "Choose some metrics to evaluate the performance of your model, some of them are mentioned in the tutorial."
   ]
  },
  {
   "cell_type": "code",
   "execution_count": 273,
   "metadata": {},
   "outputs": [
    {
     "name": "stdout",
     "output_type": "stream",
     "text": [
      "7.8125\n"
     ]
    }
   ],
   "source": [
    "correct = 0\n",
    "i =0\n",
    "for index, val in y_test.iteritems():\n",
    "    diff = abs(val -y_pred[i])\n",
    "    i+=1\n",
    "    \n",
    "    if diff <10000:\n",
    "        correct +=1\n",
    "        \n",
    "accuracy = correct / len(y_pred)\n",
    "print(accuracy*100)"
   ]
  },
  {
   "cell_type": "markdown",
   "metadata": {},
   "source": [
    "We have copied over the graphs that visualize the model's performance on the training and testing set. \n",
    "\n",
    "Change `col_name` and modify the call to `plt.ylabel()` to isolate how a single predictor affects the model."
   ]
  },
  {
   "cell_type": "code",
   "execution_count": 274,
   "metadata": {},
   "outputs": [
    {
     "data": {
      "text/plain": [
       "Text(0.5, 1.0, 'Model Behavior On Training Set')"
      ]
     },
     "execution_count": 274,
     "metadata": {},
     "output_type": "execute_result"
    },
    {
     "data": {
      "image/png": "[encoded data removed]",
      "text/plain": [
       "<Figure size 864x432 with 1 Axes>"
      ]
     },
     "metadata": {
      "needs_background": "light"
     },
     "output_type": "display_data"
    }
   ],
   "source": [
    "col_name = 'GRADES_PK_G'\n",
    "\n",
    "f = plt.figure(figsize=(12,6))\n",
    "plt.scatter(X_train[col_name], y_train, color = \"red\")\n",
    "plt.scatter(X_train[col_name], model.predict(X_train), color = \"green\")\n",
    "\n",
    "plt.legend(['True Training','Predicted Training'])\n",
    "plt.xlabel(col_name)\n",
    "plt.ylabel('Total_PROFIT')\n",
    "plt.title(\"Model Behavior On Training Set\")"
   ]
  },
  {
   "cell_type": "code",
   "execution_count": 275,
   "metadata": {},
   "outputs": [
    {
     "data": {
      "text/plain": [
       "Text(0.5, 1.0, 'Model Behavior on Testing Set')"
      ]
     },
     "execution_count": 275,
     "metadata": {},
     "output_type": "execute_result"
    },
    {
     "data": {
      "image/png": "[encoded data removed]",
      "text/plain": [
       "<Figure size 864x432 with 1 Axes>"
      ]
     },
     "metadata": {
      "needs_background": "light"
     },
     "output_type": "display_data"
    }
   ],
   "source": [
    "col_name = \"GRADES_12_G\"\n",
    "\n",
    "f = plt.figure(figsize=(12,6))\n",
    "plt.scatter(X_test[col_name], y_test, color = \"blue\")\n",
    "plt.scatter(X_test[col_name], model.predict(X_test), color = \"black\")\n",
    "\n",
    "plt.legend(['True testing','Predicted testing'])\n",
    "plt.xlabel(col_name)\n",
    "plt.ylabel('Total_PROFIT')\n",
    "plt.title(\"Model Behavior on Testing Set\")"
   ]
  },
  {
   "cell_type": "markdown",
   "metadata": {},
   "source": [
    "<h2> Summary </h2>"
   ]
  },
  {
   "cell_type": "markdown",
   "metadata": {},
   "source": [
    "In this dataset, we decided to set the total profit as our outcome, which we found by getting the difference of total revnue and total expenditure. We then take a look at the dataset and try to clean it up of NA values by using the means of related columns. We also dropped revnue and expenditure from our predictors, because they can be used to get the total profit directly.\n",
    "We created several columns in the dataset by hot encoding the states column, because we want to use the linear regression and states is a categorical variable.\n",
    "\n",
    "We found that total profit has moderate and negative correlations with enrollment variables, so we decided to focus on states and enrollment variables as our predictor. By fitting the linear regression, we only sadly able to get roughly 7 percent of tests cases correctly.\n",
    "\n",
    "For the future, we will explore more on finding and fitting the best predictors and also explore more machine learning algorithms for our dataset.\n"
   ]
  },
  {
   "cell_type": "code",
   "execution_count": null,
   "metadata": {},
   "outputs": [],
   "source": []
  }
 ],
 "metadata": {
  "kernelspec": {
   "display_name": "Python 3",
   "language": "python",
   "name": "python3"
  },
  "language_info": {
   "codemirror_mode": {
    "name": "ipython",
    "version": 3
   },
   "file_extension": ".py",
   "mimetype": "text/x-python",
   "name": "python",
   "nbconvert_exporter": "python",
   "pygments_lexer": "ipython3",
   "version": "3.8.8"
  },
  "vscode": {
   "interpreter": {
    "hash": "6cf8df3ff69f85f626faf55c10df6fe2cb9d1236b4dc73844ee4dc01369c2c99"
   }
  }
 },
 "nbformat": 4,
 "nbformat_minor": 4
}
